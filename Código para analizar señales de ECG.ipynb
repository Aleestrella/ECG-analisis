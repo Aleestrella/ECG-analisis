{
 "cells": [
  {
   "cell_type": "code",
   "execution_count": 1,
   "id": "2952ab1a",
   "metadata": {},
   "outputs": [],
   "source": [
    "import numpy as np\n",
    "import matplotlib.pyplot as plt"
   ]
  },
  {
   "cell_type": "code",
   "execution_count": 2,
   "id": "9e6d5b91",
   "metadata": {},
   "outputs": [],
   "source": [
    "from scipy.io import loadmat"
   ]
  },
  {
   "cell_type": "code",
   "execution_count": 3,
   "id": "a239b8c3",
   "metadata": {},
   "outputs": [
    {
     "name": "stdout",
     "output_type": "stream",
     "text": [
      "['Source: record mitdb/100\\n', 'val has 1 row (signal) and 3600 columns (samples/signal)\\n', 'Duration:     0:10\\n', 'Sampling frequency: 360 Hz  Sampling interval: 0.002777777778 sec\\n', 'Row\\tSignal\\tGain\\tBase\\tUnits\\n', '1\\tV5\\t200\\t0\\tmV\\n', '\\n', 'To convert from raw units to the physical units shown\\n', \"above, call the 'rdmat.m' function from the wfdb-matlab\\n\", 'toolbox: https://physionet.org/physiotools/matlab/wfdb-app-matlab/\\n']\n",
      "Source: record mitdb/100\n",
      "\n",
      "val has 1 row (signal) and 3600 columns (samples/signal)\n",
      "\n",
      "Duration:     0:10\n",
      "\n",
      "Sampling frequency: 360 Hz  Sampling interval: 0.002777777778 sec\n",
      "\n",
      "Row\tSignal\tGain\tBase\tUnits\n",
      "\n",
      "1\tV5\t200\t0\tmV\n",
      "\n",
      "\n",
      "\n",
      "To convert from raw units to the physical units shown\n",
      "\n",
      "above, call the 'rdmat.m' function from the wfdb-matlab\n",
      "\n",
      "toolbox: https://physionet.org/physiotools/matlab/wfdb-app-matlab/\n",
      "\n"
     ]
    }
   ],
   "source": [
    "info = open('100m.info', 'r')\n",
    "x= info.readlines()\n",
    "info.close()\n",
    "print(x)\n",
    "for i in x:\n",
    "    print(i)"
   ]
  },
  {
   "cell_type": "code",
   "execution_count": 4,
   "id": "4e1f6cb0",
   "metadata": {},
   "outputs": [
    {
     "name": "stdout",
     "output_type": "stream",
     "text": [
      "{'Sampling frequency': 360, 'Signal': 'V5', 'Gain': 200, 'Base': 0, 'Units': 'mV'}\n"
     ]
    }
   ],
   "source": [
    "def leer_info_archivo(archivo):\n",
    "    \"\"\"\n",
    "    Lee un archivo .info y extrae los valores de \"Sampling frequency\" y \"Signal\\tGain\\tBase\\tUnits\".\n",
    "\n",
    "    Argumentos:\n",
    "    - archivo: Ruta del archivo .info\n",
    "\n",
    "    Retorna:\n",
    "    Un diccionario con los valores de \"Sampling frequency\" y \"Signal\\tGain\\tBase\\tUnits\"\n",
    "    \"\"\"\n",
    "    valores = {}  # Diccionario para almacenar los valores extraídos\n",
    "\n",
    "    with open(archivo, 'r') as f:  # Abrir el archivo en modo de lectura usando 'with' para asegurar su cierre\n",
    "        lines = f.readlines()  # Leer todas las líneas del archivo y almacenarlas en una lista\n",
    "\n",
    "        for line in lines:  # Iterar sobre cada línea del archivo\n",
    "            if line.startswith('Sampling frequency:'):  # Verificar si la línea comienza con 'Sampling frequency:'\n",
    "                freq = line.split(':')[1].strip().split()[0]  # Extraer el valor de frecuencia eliminando espacios y separando por palabras\n",
    "                valores['Sampling frequency'] = int(freq)  # Almacenar el valor de frecuencia convertido a entero en el diccionario 'valores'\n",
    "            elif line.startswith('Row\\tSignal\\tGain\\tBase\\tUnits'):  # Verificar si la línea comienza con 'Row\\tSignal\\tGain\\tBase\\tUnits'\n",
    "                units_line = lines[lines.index(line) + 1]  # Obtener la siguiente línea que contiene los valores de las unidades\n",
    "                units = units_line.strip().split('\\t')  # Separar los valores de las unidades utilizando el tabulador como separador\n",
    "                signal, gain, base, units = units[1], units[2], units[3], units[4]  # Asignar los valores a variables individuales\n",
    "                valores['Signal'] = signal  # Almacenar el valor de la señal en el diccionario 'valores'\n",
    "                valores['Gain'] = int(gain)  # Almacenar el valor de la ganancia convertido a entero en el diccionario 'valores'\n",
    "                valores['Base'] = int(base)  # Almacenar el valor de la base convertido a entero en el diccionario 'valores'\n",
    "                valores['Units'] = units  # Almacenar los valores de las unidades en el diccionario 'valores'\n",
    "\n",
    "    return valores  # Retornar el diccionario con los valores extraídos\n",
    "\n",
    "# Ejemplo de uso\n",
    "archivo = '100m.info'\n",
    "valores = leer_info_archivo(archivo)\n",
    "print(valores)\n"
   ]
  },
  {
   "cell_type": "code",
   "execution_count": 5,
   "id": "8e7a9dd2",
   "metadata": {},
   "outputs": [
    {
     "data": {
      "text/plain": [
       "{'Sampling frequency': 360,\n",
       " 'Signal': 'V5',\n",
       " 'Gain': 200,\n",
       " 'Base': 0,\n",
       " 'Units': 'mV'}"
      ]
     },
     "execution_count": 5,
     "metadata": {},
     "output_type": "execute_result"
    }
   ],
   "source": [
    "leer_info_archivo('100m.info')"
   ]
  },
  {
   "cell_type": "code",
   "execution_count": 6,
   "id": "434d8e0a",
   "metadata": {},
   "outputs": [
    {
     "data": {
      "text/plain": [
       "{'Sampling frequency': 128,\n",
       " 'Signal': 'ECG1',\n",
       " 'Gain': 200,\n",
       " 'Base': 0,\n",
       " 'Units': 'mV'}"
      ]
     },
     "execution_count": 6,
     "metadata": {},
     "output_type": "execute_result"
    }
   ],
   "source": [
    "leer_info_archivo('16265m.info')"
   ]
  },
  {
   "cell_type": "code",
   "execution_count": 7,
   "id": "700fee4a",
   "metadata": {},
   "outputs": [
    {
     "data": {
      "text/plain": [
       "{'Sampling frequency': 1000,\n",
       " 'Signal': 'v5',\n",
       " 'Gain': 2000,\n",
       " 'Base': 0,\n",
       " 'Units': 'mV'}"
      ]
     },
     "execution_count": 7,
     "metadata": {},
     "output_type": "execute_result"
    }
   ],
   "source": [
    "leer_info_archivo('s0010_rem.info')"
   ]
  },
  {
   "cell_type": "code",
   "execution_count": null,
   "id": "4feaec51",
   "metadata": {},
   "outputs": [],
   "source": [
    "x = loadmat('100m.mat')\n",
    "print(len(x['val'][0]))\n",
    "print((x['val'] - 0) / 200)"
   ]
  },
  {
   "cell_type": "code",
   "execution_count": 9,
   "id": "9c2f2298",
   "metadata": {},
   "outputs": [],
   "source": [
    "import numpy as np\n",
    "import matplotlib.pyplot as plt\n",
    "from scipy.io import loadmat\n",
    "\n",
    "def graficar_ecg(archivo, Gain, base, frecuencia):\n",
    "    \"\"\"\n",
    "    Carga un archivo .mat que contiene datos de ECG y grafica la señal.\n",
    "\n",
    "    Argumentos:\n",
    "    - archivo: Ruta del archivo .mat que contiene los datos de ECG\n",
    "    - Gain: Ganancia de la señal de ECG\n",
    "    - base: Valor de referencia de la señal de ECG\n",
    "    - frecuencia: Frecuencia de muestreo de la señal de ECG\n",
    "\n",
    "    Retorna:\n",
    "    None\n",
    "    \"\"\"\n",
    "    # Cargar archivo .mat\n",
    "    x = loadmat(archivo)\n",
    "\n",
    "    # Obtener los datos del ECG y normalizarlos\n",
    "    ecg1 = (x['val'] - base) / Gain\n",
    "\n",
    "    # Transponer los datos del ECG\n",
    "    ecg = np.transpose(ecg1)\n",
    "\n",
    "    # Intervalo de tiempo entre muestras\n",
    "    tm = 1 / frecuencia\n",
    "\n",
    "    # Crear un array de tiempo para el ECG\n",
    "    t = np.linspace(0, np.size(ecg), np.size(ecg)) * tm\n",
    "\n",
    "    # Graficar el ECG\n",
    "    plt.plot(t, ecg)\n",
    "    plt.xlabel('Tiempo (s)')  # Etiqueta del eje x\n",
    "    plt.ylabel('Amplitud (mV)')  # Etiqueta del eje y\n",
    "    plt.title('ECG')  # Título de la gráfica\n",
    "    plt.grid(True)  # Mostrar una cuadrícula en la gráfica\n",
    "    plt.show()  # Mostrar la gráfica"
   ]
  },
  {
   "cell_type": "code",
   "execution_count": 10,
   "id": "8f25128f",
   "metadata": {},
   "outputs": [
    {
     "data": {
      "image/png": "[encoded data removed]",
      "text/plain": [
       "<Figure size 640x480 with 1 Axes>"
      ]
     },
     "metadata": {},
     "output_type": "display_data"
    }
   ],
   "source": [
    "\n",
    "# Llamar a la función para graficar el ECG\n",
    "graficar_ecg('100m.mat', 200, 0, 360)\n"
   ]
  },
  {
   "cell_type": "markdown",
   "id": "cd99263d",
   "metadata": {},
   "source": [
    "$5\\sin(2\\pi*6 t) + \\sin(2\\pi t) $"
   ]
  },
  {
   "cell_type": "code",
   "execution_count": 11,
   "id": "22b79d5f",
   "metadata": {},
   "outputs": [
    {
     "data": {
      "image/png": "[encoded data removed]",
      "text/plain": [
       "<Figure size 640x480 with 1 Axes>"
      ]
     },
     "metadata": {},
     "output_type": "display_data"
    }
   ],
   "source": [
    "# Cargar archivo .mat\n",
    "x = loadmat('100m.mat')\n",
    "\n",
    "# Obtener los datos del ECG y normalizarlos\n",
    "ecg1 = (x['val'] - 0) / 200\n",
    "\n",
    "# Transponer los datos del ECG\n",
    "ecg = np.transpose(ecg1)\n",
    "\n",
    "# Frecuencia de muestreo (360 Hz según las especificaciones)\n",
    "fs = 360\n",
    "\n",
    "# Intervalo de tiempo entre muestras\n",
    "tm = 1 / fs\n",
    "\n",
    "# Crear un array de tiempo para el ECG\n",
    "t = np.linspace(0, np.size(ecg), np.size(ecg)) * tm\n",
    "\n",
    "# Graficar el ECG\n",
    "plt.plot(t, ecg)\n",
    "plt.xlabel('Tiempo (s)')  # Etiqueta del eje x\n",
    "plt.ylabel('Amplitud (mV)')  # Etiqueta del eje y\n",
    "plt.title('ECG')  # Título de la gráfica\n",
    "plt.grid(True)  # Mostrar una cuadrícula en la gráfica\n",
    "plt.show()  # Mostrar la gráfica\n"
   ]
  },
  {
   "cell_type": "code",
   "execution_count": null,
   "id": "5099d5d0",
   "metadata": {},
   "outputs": [],
   "source": [
    "from scipy.io import loadmat\n",
    "import numpy as np\n",
    "import matplotlib.pyplot as plt\n",
    "\n",
    "# Cargar archivo .mat\n",
    "x = loadmat('100m.mat')\n",
    "\n",
    "# Obtener los datos del ECG y normalizarlos\n",
    "ecg1 = (x['val'] - 0) / 200\n",
    "\n",
    "# Transponer los datos del ECG\n",
    "ecg = np.transpose(ecg1)\n",
    "\n",
    "# Frecuencia de muestreo (360 Hz según las especificaciones)\n",
    "fs = 360\n",
    "\n",
    "# Calcular la FFT y las frecuencias correspondientes\n",
    "fft_data = np.fft.fft(ecg)\n",
    "n = len(ecg)\n",
    "freq = np.fft.fftfreq(n, d=1/fs)\n",
    "\n",
    "# Obtener el espectro de frecuencia (magnitud de la FFT)\n",
    "spectrum = np.abs(fft_data)\n",
    "\n",
    "# Graficar el espectro de frecuencia\n",
    "plt.plot(np.abs(freq[:n//2]), spectrum[:n//2])\n",
    "plt.xlabel('Frecuencia (Hz)')\n",
    "plt.ylabel('Amplitud')\n",
    "plt.title('Espectro de frecuencia del ECG')\n",
    "plt.grid(True)\n",
    "plt.show()\n"
   ]
  },
  {
   "cell_type": "code",
   "execution_count": null,
   "id": "85475b77",
   "metadata": {},
   "outputs": [],
   "source": [
    "x_1=loadmat('s0010_rem.mat')\n",
    "ecg2=(x_1['val']-0)/2000\n",
    "ecg22=np.transpose(ecg2)\n",
    "f2=1000\n",
    "t2=1/f2\n",
    "t2m=np.linspace(0,np.size(ecg22),np.size(ecg22))*t2"
   ]
  },
  {
   "cell_type": "code",
   "execution_count": null,
   "id": "195fa5f0",
   "metadata": {},
   "outputs": [],
   "source": [
    "plt.plot(t2m, ecg22)\n",
    "plt.xlabel('Tiempo (s)')\n",
    "plt.ylabel('Amplitud (mV)')\n",
    "plt.title('ECG')\n",
    "plt.grid(True)\n",
    "plt.show()"
   ]
  },
  {
   "cell_type": "code",
   "execution_count": null,
   "id": "b5efe12d",
   "metadata": {},
   "outputs": [],
   "source": [
    "x_2=loadmat('16265m.mat')\n",
    "ecg3=(x_2['val']-0)/200\n",
    "ecg33=np.transpose(ecg3)\n",
    "f2=128\n",
    "t2=1/f2\n",
    "t3m=np.linspace(0,np.size(ecg33),np.size(ecg33))*t2"
   ]
  },
  {
   "cell_type": "code",
   "execution_count": null,
   "id": "3a57950e",
   "metadata": {},
   "outputs": [],
   "source": [
    "from scipy import signal\n",
    "\n",
    "# Definir los parámetros del filtro\n",
    "lowcut = 0.5  # Frecuencia de corte inferior\n",
    "highcut = 40.0  # Frecuencia de corte superior\n",
    "fs = 128  # Frecuencia de muestreo\n",
    "\n",
    "# Crear los coeficientes del filtro FIR utilizando el método de ventana de Kaiser\n",
    "nyquist = 0.5 * fs\n",
    "low = lowcut / nyquist\n",
    "high = highcut / nyquist\n",
    "numtaps = 101  # Número de coeficientes del filtro\n",
    "window = 'hamming'  # Ventana utilizada para diseñar el filtro\n",
    "b = signal.firwin(numtaps, [low, high], pass_zero=False, fs=fs, window=window)\n",
    "\n",
    "# Aplicar el filtro a la señal de ECG\n",
    "filtered_ecg = signal.lfilter(b, 1, ecg33)\n",
    "\n",
    "# Graficar la señal filtrada\n",
    "plt.plot(t3m, filtered_ecg)\n",
    "plt.xlabel('Tiempo (s)')\n",
    "plt.ylabel('Amplitud (mV)')\n",
    "plt.title('ECG filtrado')\n",
    "plt.grid(True)\n",
    "plt.show()\n"
   ]
  },
  {
   "cell_type": "code",
   "execution_count": null,
   "id": "42791d76",
   "metadata": {},
   "outputs": [],
   "source": [
    "plt.plot(t3m, ecg33)\n",
    "plt.xlabel('Tiempo (s)')\n",
    "plt.ylabel('Amplitud (mV)')\n",
    "plt.title('ECG')\n",
    "plt.grid(True)\n",
    "plt.show()"
   ]
  },
  {
   "cell_type": "code",
   "execution_count": null,
   "id": "c6da41fd",
   "metadata": {},
   "outputs": [],
   "source": [
    "from scipy.io import loadmat\n",
    "import numpy as np\n",
    "import matplotlib.pyplot as plt\n",
    "\n",
    "# Cargar archivo .mat\n",
    "x_2 = loadmat('16265m.mat')\n",
    "ecg3 = (x_2['val'] - 0) / 200\n",
    "ecg33 = np.transpose(ecg3)\n",
    "f2 = 128\n",
    "t2 = 1 / f2\n",
    "t3m = np.linspace(0, np.size(ecg33) - 1, np.size(ecg33)) * t2\n",
    "\n",
    "# Limitar los datos a 0 a 1 segundo\n",
    "t_limit = 1.0  # Segundos\n",
    "n_limit = int(t_limit * f2)\n",
    "t3m_limit = t3m[:n_limit]\n",
    "ecg33_limit = ecg33[:n_limit]\n",
    "\n",
    "# Graficar el ECG limitado a 0 a 1 segundo\n",
    "plt.plot(t3m_limit, ecg33_limit)\n",
    "plt.xlabel('Tiempo (s)')\n",
    "plt.ylabel('Amplitud (mV)')\n",
    "plt.title('ECG (0 a 1 segundo)')\n",
    "plt.grid(True)\n",
    "plt.show()\n"
   ]
  },
  {
   "cell_type": "code",
   "execution_count": null,
   "id": "073a4e8d",
   "metadata": {},
   "outputs": [],
   "source": [
    "from scipy.io import loadmat\n",
    "import numpy as np\n",
    "import matplotlib.pyplot as plt\n",
    "\n",
    "f2 = 128\n",
    "t2 = 1 / f2\n",
    "t3m = np.linspace(0, np.size(wiener_filtered) - 1, np.size(wiener_filtered)) * t2\n",
    "\n",
    "# Limitar los datos a 0 a 1 segundo\n",
    "t_limit = 1.0  # Segundos\n",
    "n_limit = int(t_limit * f2)\n",
    "t3m_limit = t3m[:n_limit]\n",
    "ecg33_limit = wiener_filtered[:n_limit]\n",
    "\n",
    "# Graficar el ECG limitado a 0 a 1 segundo\n",
    "plt.plot(t3m_limit, ecg33_limit)\n",
    "plt.xlabel('Tiempo (s)')\n",
    "plt.ylabel('Amplitud (mV)')\n",
    "plt.title('ECG (0 a 1 segundo)')\n",
    "plt.grid(True)\n",
    "plt.show()\n"
   ]
  },
  {
   "cell_type": "code",
   "execution_count": null,
   "id": "18b5b996",
   "metadata": {},
   "outputs": [],
   "source": [
    "from scipy.signal import wiener, medfilt\n",
    "import matplotlib.pyplot as plt\n",
    "##obtener la señal original\n",
    "filtered_ecg = signal.lfilter(b, 1, ecg33)\n",
    "original_signal = filtered_ecg\n",
    "##filtro Wiener\n",
    "wiener_filtered = wiener(original_signal, mysize=None, noise=None)\n",
    "##filtro Mediano\n",
    "medfilt_filtered = medfilt(original_signal, kernel_size=5)\n",
    "##graficar la escena original, el filtro Wiener y el filtro Mediano\n",
    "plt.figure()\n",
    "##plt.plot(original_signal, label='Escena original')\n",
    "plt.plot(wiener_filtered, label='Filtro Wiener')\n",
    "##plt.plot(medfilt_filtered, label='Filtro Mediano')\n",
    "plt.legend()\n",
    "plt.xlabel('Tiempo')\n",
    "plt.ylabel('Amplitud')\n",
    "plt.title('Filtros Wiener y Mediano')\n",
    "plt.show()\n",
    "\n",
    "# Aplicar el filtro a la señal de ECG\n"
   ]
  },
  {
   "cell_type": "code",
   "execution_count": null,
   "id": "2b7f08a0",
   "metadata": {},
   "outputs": [],
   "source": [
    "from scipy.fft import fft"
   ]
  },
  {
   "cell_type": "code",
   "execution_count": null,
   "id": "60b2d2ae",
   "metadata": {},
   "outputs": [],
   "source": [
    "# Cargar archivo .mat\n",
    "mat_file = loadmat('16265m.mat')\n",
    "\n",
    "# Obtener los datos del ECG y convertirlos en un array \n",
    "ecg_data = mat_file['val'].flatten()\n",
    "\n",
    "# Frecuencia de muestreo (128 Hz según las especificaciones)\n",
    "fs = 128\n",
    "\n",
    "# Calcular la FFT de los datos del ECG\n",
    "fft_data = fft(ecg_data)\n",
    "\n",
    "# Obtener la longitud de los datos del ECG\n",
    "n = len(ecg_data)\n",
    "\n",
    "# Calcular las frecuencias correspondientes a la FFT\n",
    "freq = np.fft.fftfreq(n, d=1/fs)\n",
    "\n",
    "# Obtener el espectro de frecuencia (magnitud de la FFT)\n",
    "spectrum = np.abs(fft_data)\n",
    "# Graficar el espectro de frecuencia\n",
    "plt.plot(freq[:n//2], spectrum[:n//2])  # Trazar solo la mitad de los valores para evitar redundancia\n",
    "plt.xlabel('Frecuencia (Hz)')  # Etiqueta del eje x\n",
    "plt.ylabel('Amplitud')  # Etiqueta del eje y\n",
    "plt.title('Espectro de frecuencia del ECG')  # Título de la gráfica\n",
    "plt.grid(True)  # Mostrar una cuadrícula en la gráfica\n",
    "plt.show()  # Mostrar la gráfica\n"
   ]
  },
  {
   "cell_type": "code",
   "execution_count": null,
   "id": "fb89e8b1",
   "metadata": {},
   "outputs": [],
   "source": [
    "fft_data = fft(wiener_filtered)\n",
    "\n",
    "# Obtener la longitud de los datos del ECG\n",
    "n = len(wiener_filtered)\n",
    "\n",
    "# Calcular las frecuencias correspondientes a la FFT\n",
    "freq = np.fft.fftfreq(n, d=1/fs)\n",
    "\n",
    "# Obtener el espectro de frecuencia (magnitud de la FFT)\n",
    "spectrum = np.abs(fft_data)\n",
    "# Graficar el espectro de frecuencia\n",
    "plt.plot(freq[:n//2], spectrum[:n//2])  # Trazar solo la mitad de los valores para evitar redundancia\n",
    "plt.xlabel('Frecuencia (Hz)')  # Etiqueta del eje x\n",
    "plt.ylabel('Amplitud')  # Etiqueta del eje y\n",
    "plt.title('Espectro de frecuencia del ECG')  # Título de la gráfica\n",
    "plt.grid(True)  # Mostrar una cuadrícula en la gráfica\n",
    "plt.show()  # Mostrar la gráfica\n"
   ]
  },
  {
   "cell_type": "code",
   "execution_count": null,
   "id": "5525b1fd",
   "metadata": {},
   "outputs": [],
   "source": []
  }
 ],
 "metadata": {
  "kernelspec": {
   "display_name": "Python 3 (ipykernel)",
   "language": "python",
   "name": "python3"
  },
  "language_info": {
   "codemirror_mode": {
    "name": "ipython",
    "version": 3
   },
   "file_extension": ".py",
   "mimetype": "text/x-python",
   "name": "python",
   "nbconvert_exporter": "python",
   "pygments_lexer": "ipython3",
   "version": "3.9.13"
  }
 },
 "nbformat": 4,
 "nbformat_minor": 5
}
